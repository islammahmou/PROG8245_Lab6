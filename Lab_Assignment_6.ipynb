{
 "cells": [
  {
   "attachments": {},
   "cell_type": "markdown",
   "metadata": {},
   "source": [
    "# Lab Assignment 6\n",
    "## This Lab task is to completed individually, Please Add your Name and ID Below, please comment your code thoroughly and name your variables wisely. (Grade out of 23, 3 marks for commented organized code.)\n",
    "- Name: \n",
    "- ID:"
   ]
  },
  {
   "attachments": {},
   "cell_type": "markdown",
   "metadata": {},
   "source": [
    "### Question 1- DATA INTEGRATION:  (5)\n",
    "Check the files inside microbiome folder, (MID1, MID2, ... , MID9.xls files), you need to combine those files into single dataframe.<br>\n",
    "Then You will need to add to this dataframe the relevant metadata information from metadata.csv <br>\n",
    "__Inspect the files before answering the question__\n"
   ]
  },
  {
   "cell_type": "code",
   "execution_count": null,
   "metadata": {},
   "outputs": [],
   "source": []
  },
  {
   "attachments": {},
   "cell_type": "markdown",
   "metadata": {},
   "source": [
    "### Question 2- Feature Engineering - Attribute Correlation (15)\n",
    "- Load the file income_data.csv, inspect the columns.\n",
    "- Determine if race and education features have a statistical relationship. \n",
    "- Explain and conclude your findings (7 till here)\n",
    "- Inspect the dataset carefully and create an Indicator Feature (0/1) --(3 marks here)\n",
    "- Inspect the dataset carefully and create an Interaction Feature -- (3 marks here)<br>\n",
    "__The features you create must be resonable, please add an explanation to explain why did you chose this indicator variable__ "
   ]
  },
  {
   "attachments": {},
   "cell_type": "markdown",
   "metadata": {},
   "source": []
  }
 ],
 "metadata": {
  "language_info": {
   "name": "python"
  },
  "orig_nbformat": 4
 },
 "nbformat": 4,
 "nbformat_minor": 2
}
